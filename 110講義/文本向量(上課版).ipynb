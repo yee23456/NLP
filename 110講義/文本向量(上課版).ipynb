{
  "nbformat": 4,
  "nbformat_minor": 0,
  "metadata": {
    "colab": {
      "name": "文本向量(上課版).ipynb",
      "provenance": [],
      "collapsed_sections": []
    },
    "kernelspec": {
      "display_name": "Python 3",
      "name": "python3"
    }
  },
  "cells": [
    {
      "cell_type": "markdown",
      "metadata": {
        "id": "EsRPnTynZ-T4"
      },
      "source": [
        "## 安裝及載入gensim下之doc2vec模組"
      ]
    },
    {
      "cell_type": "code",
      "metadata": {
        "colab": {
          "base_uri": "https://localhost:8080/"
        },
        "id": "aUsX3eNp622l",
        "outputId": "b64304cc-fe5a-4d2a-880d-341be35d6282"
      },
      "source": [
        "#Gensim是一個開源庫，使用現代統計機器學習來進行無監督的主題建模和自然語言處理\n",
        "!pip install gensim"
      ],
      "execution_count": null,
      "outputs": [
        {
          "output_type": "stream",
          "name": "stdout",
          "text": [
            "Requirement already satisfied: gensim in /usr/local/lib/python3.7/dist-packages (3.6.0)\n",
            "Requirement already satisfied: six>=1.5.0 in /usr/local/lib/python3.7/dist-packages (from gensim) (1.15.0)\n",
            "Requirement already satisfied: scipy>=0.18.1 in /usr/local/lib/python3.7/dist-packages (from gensim) (1.4.1)\n",
            "Requirement already satisfied: numpy>=1.11.3 in /usr/local/lib/python3.7/dist-packages (from gensim) (1.19.5)\n",
            "Requirement already satisfied: smart-open>=1.2.1 in /usr/local/lib/python3.7/dist-packages (from gensim) (5.2.1)\n"
          ]
        }
      ]
    },
    {
      "cell_type": "markdown",
      "metadata": {
        "id": "vUaiOEJbWEzW"
      },
      "source": [
        "#DOC2Vec的計算:資料已完成預處理(斷詞完成)"
      ]
    },
    {
      "cell_type": "code",
      "metadata": {
        "colab": {
          "base_uri": "https://localhost:8080/"
        },
        "id": "fV6_78ApYoA6",
        "outputId": "f99b79d2-17e9-449d-fbf6-60c983725759"
      },
      "source": [
        "#Doc2Vec的格式需求為(句子(已斷完詞)，句子編碼)\n",
        "from gensim.models.doc2vec import Doc2Vec, TaggedDocument\n",
        "sentences = [[\"課程\",\"Python\",\"深度學習\", \"機器學習\"], [\"NLP\",\"情緒分析\",\"深度學習\", \"機器學習\"],[\"深度學習\",\"是\",\"機器學習\",\"一部分\",\"屬於\",\"人工智慧\",\"技術\"]]\n",
        "documents = [TaggedDocument(doc, [i]) for i, doc in enumerate(sentences)]\n",
        "documents"
      ],
      "execution_count": null,
      "outputs": [
        {
          "output_type": "execute_result",
          "data": {
            "text/plain": [
              "[TaggedDocument(words=['課程', 'Python', '深度學習', '機器學習'], tags=[0]),\n",
              " TaggedDocument(words=['NLP', '情緒分析', '深度學習', '機器學習'], tags=[1]),\n",
              " TaggedDocument(words=['深度學習', '是', '機器學習', '一部分', '屬於', '人工智慧', '技術'], tags=[2])]"
            ]
          },
          "metadata": {},
          "execution_count": 18
        }
      ]
    },
    {
      "cell_type": "code",
      "metadata": {
        "id": "NOqNTM4PWMXq"
      },
      "source": [
        "#Doc2Vec的訓練\n",
        "model = Doc2Vec(documents,dm=1,dbow_words=0,vector_size=5, window=2, min_count=1)\n"
      ],
      "execution_count": null,
      "outputs": []
    },
    {
      "cell_type": "code",
      "metadata": {
        "colab": {
          "base_uri": "https://localhost:8080/"
        },
        "id": "NKUMzJfXYNqt",
        "outputId": "3bd69962-6c01-4619-9f15-1329b1cd3935"
      },
      "source": [
        "#推論新句子向量:model.infer_vector\n",
        "vector = model.infer_vector([\"深度學習\",\"是\",\"重要\",\"課程\"])\n",
        "print(vector)"
      ],
      "execution_count": null,
      "outputs": [
        {
          "output_type": "stream",
          "name": "stdout",
          "text": [
            "[-0.04978681 -0.03902027  0.05156025 -0.0050987  -0.09705036]\n"
          ]
        }
      ]
    },
    {
      "cell_type": "code",
      "metadata": {
        "id": "Pc6ADFrpY4xI"
      },
      "source": [
        "#儲存已完成訓練之模式，並放在暫存檔，後續可下載並持續再訓練\n",
        "from gensim.test.utils import get_tmpfile\n",
        "fname = get_tmpfile(\"my_doc2vec_model\")\n",
        "model.save(fname)\n",
        "model = Doc2Vec.load(fname)"
      ],
      "execution_count": null,
      "outputs": []
    },
    {
      "cell_type": "code",
      "metadata": {
        "colab": {
          "base_uri": "https://localhost:8080/"
        },
        "id": "IyLQjgIqHGCs",
        "outputId": "ea39c1fe-b7a9-4378-dfb2-2f5903cbaee8"
      },
      "source": [
        "#發現已訓練完成之某一個句子與其他最相似的句子\n",
        "print(model.docvecs[1])\n",
        "similar_doc=model.docvecs.most_similar(1,topn=2)\n",
        "print(similar_doc)"
      ],
      "execution_count": null,
      "outputs": [
        {
          "output_type": "stream",
          "name": "stdout",
          "text": [
            "[-0.05303758  0.08600722  0.07817342 -0.02342409  0.04343738]\n",
            "[(0, 0.0732569769024849), (2, -0.554648756980896)]\n"
          ]
        }
      ]
    },
    {
      "cell_type": "markdown",
      "metadata": {
        "id": "IvKjK5rntZMW"
      },
      "source": [
        "利用已完成斷詞之文字檔: 藺草測試檔.txt"
      ]
    },
    {
      "cell_type": "code",
      "metadata": {
        "id": "1urnb2oxbJ_k"
      },
      "source": [
        "with open(\"藺草測試檔.txt\", 'r') as cf:\n",
        "  docs = cf.readlines()\n",
        "x_train = []\n",
        "for i, text in enumerate(docs):\n",
        "  word_list = text.split(' ')\n",
        "  l = len(word_list)\n",
        "  word_list[l - 1] = word_list[l - 1].strip()\n",
        "  x_train.append(word_list)\n",
        "documents = [TaggedDocument(doc, [i]) for i, doc in enumerate(x_train)]\n",
        "#documents\n",
        "\n"
      ],
      "execution_count": null,
      "outputs": []
    },
    {
      "cell_type": "code",
      "metadata": {
        "id": "F9YcjUX_t6pz"
      },
      "source": [
        "model1 = Doc2Vec(documents,dm=1,dbow_words=0,vector_size=10, window=2, min_count=1)"
      ],
      "execution_count": null,
      "outputs": []
    },
    {
      "cell_type": "code",
      "metadata": {
        "id": "htpqYRAchCmE",
        "colab": {
          "base_uri": "https://localhost:8080/"
        },
        "outputId": "19d59935-3c20-4873-9807-cd7da1f3512c"
      },
      "source": [
        "vector = model1.infer_vector([\"藺草\",\"的\",\"故鄉\",\"苑裡\"])\n",
        "vector"
      ],
      "execution_count": null,
      "outputs": [
        {
          "output_type": "execute_result",
          "data": {
            "text/plain": [
              "array([-0.0373699 , -0.02462974,  0.03542951,  0.04775546, -0.00376776,\n",
              "       -0.04213092, -0.03696426,  0.02366995,  0.02498907,  0.02854955],\n",
              "      dtype=float32)"
            ]
          },
          "metadata": {},
          "execution_count": 33
        }
      ]
    },
    {
      "cell_type": "markdown",
      "metadata": {
        "id": "qvXQWoc6Lr_4"
      },
      "source": [
        "#應用練習題\n",
        "請利用已訓練完成之句子向量模型，來完成下列問與答之小實作。\n",
        "\n",
        "問題: dialogue = \"台南市長是哪一個政黨\"\n",
        "答句: answers = [“今天天氣是晴天”,  “台南市長是民進黨”, “我喜歡吃美食”,  “我喜歡打羽球”, “我就讀中信金融管理學院”, “台南最有名的夜市是花園夜市\"]"
      ]
    }
  ]
}