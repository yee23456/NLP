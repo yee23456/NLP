{
  "nbformat": 4,
  "nbformat_minor": 0,
  "metadata": {
    "colab": {
      "name": "“NLP結巴110 .ipynb",
      "provenance": [],
      "collapsed_sections": []
    },
    "kernelspec": {
      "name": "python3",
      "display_name": "Python 3"
    }
  },
  "cells": [
    {
      "cell_type": "markdown",
      "metadata": {
        "id": "tvzMnkWpSTX4"
      },
      "source": [
        "## **安裝jieba模組**"
      ]
    },
    {
      "cell_type": "code",
      "metadata": {
        "id": "3ueff7-PYKi8",
        "colab": {
          "base_uri": "https://localhost:8080/"
        },
        "outputId": "13d4eb2a-457a-4843-c36a-965b047aab86"
      },
      "source": [
        "!pip install jieba"
      ],
      "execution_count": 1,
      "outputs": [
        {
          "output_type": "stream",
          "name": "stdout",
          "text": [
            "Requirement already satisfied: jieba in /usr/local/lib/python3.7/dist-packages (0.42.1)\n"
          ]
        }
      ]
    },
    {
      "cell_type": "markdown",
      "metadata": {
        "id": "QnSybgyiTYc1"
      },
      "source": [
        "## jieba基本語法"
      ]
    },
    {
      "cell_type": "markdown",
      "metadata": {
        "id": "4alrJqNfEJXc"
      },
      "source": [
        "**斷詞**"
      ]
    },
    {
      "cell_type": "code",
      "metadata": {
        "id": "hko7cTzHYOq8",
        "colab": {
          "base_uri": "https://localhost:8080/"
        },
        "outputId": "71921534-c99c-4210-cf9b-aaa96ed029bd"
      },
      "source": [
        "import jieba\n",
        "list = jieba.cut(\"我要成為國際金融家\")   #斷句\n",
        "print(\"/\".join(list))"
      ],
      "execution_count": 2,
      "outputs": [
        {
          "output_type": "stream",
          "name": "stderr",
          "text": [
            "Building prefix dict from the default dictionary ...\n",
            "Dumping model to file cache /tmp/jieba.cache\n",
            "Loading model cost 1.017 seconds.\n",
            "Prefix dict has been built successfully.\n"
          ]
        },
        {
          "output_type": "stream",
          "name": "stdout",
          "text": [
            "我要/成為/國際/金融家\n"
          ]
        }
      ]
    },
    {
      "cell_type": "code",
      "metadata": {
        "id": "wQE-ewt9Ej4Q"
      },
      "source": [
        "#利用結巴斷詞完後，儲存在一個檔案中，以進行後續分析\n",
        "list = jieba.lcut(\"我要成為國際金融家\")   #斷句\n",
        "list1=\" \".join(list)\n",
        "file2=open(r'test.txt','w', encoding='UTF-8') \n",
        "file2.writelines(list1)\n",
        "file2.close()"
      ],
      "execution_count": 3,
      "outputs": []
    },
    {
      "cell_type": "markdown",
      "metadata": {
        "id": "Wui0oQHwUwGL"
      },
      "source": [
        "## 導入文本做斷詞"
      ]
    },
    {
      "cell_type": "code",
      "metadata": {
        "id": "CnhMEvGQaAcC"
      },
      "source": [
        "file=open('ctbc8.txt','r')\n",
        "document1=file.read()\n",
        "document1"
      ],
      "execution_count": null,
      "outputs": []
    },
    {
      "cell_type": "code",
      "metadata": {
        "id": "02SBlRuHa267"
      },
      "source": [
        "word = jieba.cut(document1, cut_all=False)\n",
        "print(\"/\".join(word))"
      ],
      "execution_count": null,
      "outputs": []
    },
    {
      "cell_type": "code",
      "metadata": {
        "id": "wPxoyartRIIE",
        "colab": {
          "base_uri": "https://localhost:8080/"
        },
        "outputId": "e4909368-88e3-484c-c9e8-c42fe5915227"
      },
      "source": [
        "word = jieba.lcut(document1)\n",
        "print(word)"
      ],
      "execution_count": 6,
      "outputs": [
        {
          "output_type": "stream",
          "name": "stdout",
          "text": [
            "['繳學費', '刷', '這張', '卡', ' ', '6', '期', '分期', '0', '利率', '還有', '1', '％', '現金', '回饋', '\\n', 'LiTV', '聯手', '信用卡', '祭', '優惠', ' ', '二路', '並進', '搶攻', '影劇迷', 'PChome', ' ', '超狂', '刷卡', '回饋', '神算', ' ', '線上', '工具', '，', '刷', '哪', '張卡', '、', '哪種', '支付', '最', '划算', '？', '就', '讓', '它', '解答', '！', '6', '月', '繳稅', '加持', '創', '新高', '\\u3000', '刷卡', '金額', '爆衝', '3282', '億', '刷卡', '加油', '竟變', '盜刷', '？', ' ', '收單行', '中信', '銀', '：', '第一次', '遇到', '7', '月', '繳汽機車', '燃料', '稅', '！', '這', '5', '家', '信用卡', '免手續', '費且', '有', '回', '饋繳', '燃料', '費', ' ', '刷', '哪', '張卡', '最', '划算', '中國信', '託', '銀行', '率先', '同業', ' ', '打造', '全', '渠道', '數位', '平台', '信用卡', '繳稅', ' ', '6', '月', '簽帳', '額飆', '鞏固', '信用卡', '三哥', '地位', ' ', '玉山', '銀', '推新卡', '主打', '現金', '回饋', '搶', '客銀行', '帳戶', '綁', 'LINE', ' ', '優惠多', '指定', '信用卡', '回饋', '上', '看', '25%', '\\u3000', 'LINE', ' ', 'Pay', '導入', '星巴克', '付款', '網購族', '該', '刷', '哪', '張卡', '？', '10', '大', '最', '夯', '網購', '信用卡', '報', '你', '知', '\\u3000', '最高', '現金', '回饋', '6', '％', '數位', '服務', '神助', ' ', '信用', '額度', '調整', '從', '2', '天縮', '短', '至', '2', '分鐘', '海外', '旅遊刷', '哪張', '？', '聯邦', '銀', '全面', '3', '％', '最優', '、', '兆', '豐限時', '送', '3000', '趟', '免費', '機接', '追', '韓粉', '衝下載', ' ', 'PX', ' ', 'Pay', '下載量', '破', '2', '百萬次', '統一超', '除息', '行情', '熱', ' ', '早盤', '填息', '近', '4', '成收', '復', '300', '元價位', '行動', '支付', ' ', '搶', '暑假', '商機', ' ', '回饋', '15%', '點數', '行動', '支付', '業者', '搶', '暑假', '消費', '旺季', '\\u3000', '多比較', '優惠', '撿', '便宜', '超商', '雙雄', '搶', '攻會員', '經濟', '，', '全家', '會員', '破千萬', '，', '統一', '超客', '單價', '多四成', '3', '家', '全上', '！', '純網', '銀', '執照', '名', '單終', '於', '揭曉', '，', '將來', '銀行', '、', 'LINE', ' ', 'Bank', '、', '樂天', '銀行', '通通', '取得', '執照', '！', '各自', '優勢', '大比較', '\\n']\n"
          ]
        }
      ]
    },
    {
      "cell_type": "markdown",
      "metadata": {
        "id": "stejPRwoHpa1"
      },
      "source": [
        "**文件斷句**"
      ]
    },
    {
      "cell_type": "code",
      "metadata": {
        "id": "o_8zUJ5AFVrS",
        "colab": {
          "base_uri": "https://localhost:8080/"
        },
        "outputId": "5221ef4b-cf10-42e3-e436-cd66eae16ece"
      },
      "source": [
        "documents=['我要成為國際金融家','在非洲，每六十秒，就有一分鐘過去']\n",
        "for sentence in documents:\n",
        "  seg_list=jieba.cut(sentence)\n",
        "  print(\"/\".join(seg_list))"
      ],
      "execution_count": 7,
      "outputs": [
        {
          "output_type": "stream",
          "name": "stdout",
          "text": [
            "我要/成為/國際/金融家\n",
            "在/非洲/，/每/六十/秒/，/就/有/一分/鐘過/去\n"
          ]
        }
      ]
    },
    {
      "cell_type": "markdown",
      "metadata": {
        "id": "9SUEF6SYHSFU"
      },
      "source": [
        "**不同的斷句方法**"
      ]
    },
    {
      "cell_type": "code",
      "metadata": {
        "id": "8Uc3VGDb-pbs",
        "colab": {
          "base_uri": "https://localhost:8080/"
        },
        "outputId": "87644fa6-5a97-4280-e483-0cd8a47375c4"
      },
      "source": [
        "#不同的斷句方法\n",
        "seg_list = jieba.cut(\"法國巴黎聖母院遭遇大火\", cut_all=True)  #全模式\n",
        "print(\"Full Mode: \" + \"/ \".join(seg_list))\n",
        "\n",
        "seg_list = jieba.cut(\"法國巴黎聖母院遭遇大火\", cut_all=False)  # 精確模式\n",
        "print(\"Default Mode: \" + \"/ \".join(seg_list))\n",
        "\n",
        "seg_list = jieba.cut(\"法國巴黎聖母院遭遇大火\")  #默認模式\n",
        "print(\", \".join(seg_list))\n",
        "\n",
        "seg_list = jieba.cut_for_search(\"法國巴黎聖母院遭遇大火\")  #搜索引擎模式\n",
        "print(\", \".join(seg_list))\n",
        "\n",
        "seg_list = jieba.cut_for_search(\"我要成為國際金融家\") \n",
        "print(\", \".join(seg_list))"
      ],
      "execution_count": 8,
      "outputs": [
        {
          "output_type": "stream",
          "name": "stdout",
          "text": [
            "Full Mode: 法/ 國/ 巴黎/ 聖/ 母/ 院/ 遭遇/ 大火\n",
            "Default Mode: 法國/ 巴黎/ 聖母院/ 遭遇/ 大火\n",
            "法國, 巴黎, 聖母院, 遭遇, 大火\n",
            "法國, 巴黎, 聖母院, 遭遇, 大火\n",
            "我要, 成為, 國際, 金融, 金融家\n"
          ]
        }
      ]
    },
    {
      "cell_type": "markdown",
      "metadata": {
        "id": "xCpMhC8-H3M3"
      },
      "source": [
        "**斷句不佳時**"
      ]
    },
    {
      "cell_type": "code",
      "metadata": {
        "id": "lvfEiYG6EdGc",
        "colab": {
          "base_uri": "https://localhost:8080/"
        },
        "outputId": "60fe68ee-f29c-4f51-b3ff-e8cc5dfa5ff8"
      },
      "source": [
        "seg_list2 = jieba.cut(\"迷客夏要訂紅茶拿鐵\") \n",
        "print(\" \".join(seg_list2))"
      ],
      "execution_count": 9,
      "outputs": [
        {
          "output_type": "stream",
          "name": "stdout",
          "text": [
            "迷客 夏要 訂紅茶 拿 鐵\n"
          ]
        }
      ]
    },
    {
      "cell_type": "markdown",
      "metadata": {
        "id": "Ny7RJENDH8wt"
      },
      "source": [
        "**自定義辭庫**"
      ]
    },
    {
      "cell_type": "code",
      "metadata": {
        "id": "QanItQqb617n",
        "colab": {
          "base_uri": "https://localhost:8080/"
        },
        "outputId": "b218cb14-2149-4f17-ad1c-2367114a8718"
      },
      "source": [
        "#可以直接加入辭典中\n",
        "jieba.add_word(\"迷客夏\")\n",
        "jieba.add_word(\"拿鐵\")\n",
        "seg_list = jieba.cut(\"迷客夏要訂紅茶拿鐵\")\n",
        "print(\"|\".join(seg_list))"
      ],
      "execution_count": 10,
      "outputs": [
        {
          "output_type": "stream",
          "name": "stdout",
          "text": [
            "迷客夏|要訂|紅茶|拿鐵\n"
          ]
        }
      ]
    },
    {
      "cell_type": "code",
      "metadata": {
        "id": "lTcL6RZpKw_2",
        "colab": {
          "base_uri": "https://localhost:8080/"
        },
        "outputId": "48ffd958-40bf-473d-f3ad-4d7d64e3d0ec"
      },
      "source": [
        "#自定義辭庫1\n",
        "jieba.load_userdict([\"迷客夏\",\"拿鐵\"])\n",
        "seg_list = jieba.cut(\"迷客夏要訂紅茶拿鐵\")\n",
        "print(\"|\".join(seg_list))"
      ],
      "execution_count": 11,
      "outputs": [
        {
          "output_type": "stream",
          "name": "stdout",
          "text": [
            "迷客夏|要訂|紅茶|拿鐵\n"
          ]
        }
      ]
    },
    {
      "cell_type": "code",
      "metadata": {
        "id": "sE0D1ZEZJT4W",
        "colab": {
          "base_uri": "https://localhost:8080/"
        },
        "outputId": "bb72d246-67ee-4fed-8e76-cab761aa5512"
      },
      "source": [
        "#自定義辭庫2\n",
        "jieba.load_userdict('splin1.txt')\n",
        "seg_list = jieba.cut(\"迷客夏要訂紅茶拿鐵\")\n",
        "print(\"|\".join(seg_list))"
      ],
      "execution_count": 12,
      "outputs": [
        {
          "output_type": "stream",
          "name": "stdout",
          "text": [
            "迷客夏|要訂|紅茶|拿鐵\n"
          ]
        }
      ]
    },
    {
      "cell_type": "markdown",
      "metadata": {
        "id": "CxfIrVDIJ_Jp"
      },
      "source": [
        "**詞性標記**"
      ]
    },
    {
      "cell_type": "code",
      "metadata": {
        "id": "qN5kULf--nLy",
        "colab": {
          "base_uri": "https://localhost:8080/"
        },
        "outputId": "9e01a10d-08da-4fe5-e167-4abaf5afac64"
      },
      "source": [
        "import jieba.posseg as pseg   #分詞性\n",
        "words =pseg.cut(\"今天晚上又要吃咖哩\")\n",
        "for w in words:\n",
        "    print(w.word,w.flag)"
      ],
      "execution_count": 13,
      "outputs": [
        {
          "output_type": "stream",
          "name": "stdout",
          "text": [
            "今天 t\n",
            "晚上 t\n",
            "又 d\n",
            "要 v\n",
            "吃 v\n",
            "咖哩 n\n"
          ]
        }
      ]
    },
    {
      "cell_type": "markdown",
      "metadata": {
        "id": "8T6PTGPxk35U"
      },
      "source": [
        "# Homework:\n",
        "請找出一篇至少1000個字的中文文章，利用jieba工具進行斷詞，並善用自建辭庫的技巧(請將此辭庫儲存成檔案)，斷成你認為最合適的斷詞結果。"
      ]
    }
  ]
}