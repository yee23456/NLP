{
  "nbformat": 4,
  "nbformat_minor": 0,
  "metadata": {
    "colab": {
      "name": "textrank110 _s",
      "provenance": [],
      "collapsed_sections": []
    },
    "kernelspec": {
      "name": "python3",
      "display_name": "Python 3"
    }
  },
  "cells": [
    {
      "cell_type": "markdown",
      "metadata": {
        "id": "tvzMnkWpSTX4"
      },
      "source": [
        "## **安裝textrank4zh模組**"
      ]
    },
    {
      "cell_type": "code",
      "metadata": {
        "id": "3ueff7-PYKi8",
        "colab": {
          "base_uri": "https://localhost:8080/"
        },
        "outputId": "4c6c2d96-fa1e-45da-9e69-335218fbadbe"
      },
      "source": [
        "!pip install textrank4zh"
      ],
      "execution_count": 1,
      "outputs": [
        {
          "output_type": "stream",
          "name": "stdout",
          "text": [
            "Collecting textrank4zh\n",
            "  Downloading textrank4zh-0.3.zip (13 kB)\n",
            "Requirement already satisfied: jieba>=0.35 in /usr/local/lib/python3.7/dist-packages (from textrank4zh) (0.42.1)\n",
            "Requirement already satisfied: numpy>=1.7.1 in /usr/local/lib/python3.7/dist-packages (from textrank4zh) (1.19.5)\n",
            "Requirement already satisfied: networkx>=1.9.1 in /usr/local/lib/python3.7/dist-packages (from textrank4zh) (2.6.3)\n",
            "Building wheels for collected packages: textrank4zh\n",
            "  Building wheel for textrank4zh (setup.py) ... \u001b[?25l\u001b[?25hdone\n",
            "  Created wheel for textrank4zh: filename=textrank4zh-0.3-py3-none-any.whl size=13421 sha256=58ac244fb8503ea22d6e5150b15b88fc6ff3f6b6eb46b41a3736e73c7dc0e783\n",
            "  Stored in directory: /root/.cache/pip/wheels/14/4e/2e/a98380a114c215e21b9220d9ebb73cfa2e4094861d5faaf2ca\n",
            "Successfully built textrank4zh\n",
            "Installing collected packages: textrank4zh\n",
            "Successfully installed textrank4zh-0.3\n"
          ]
        }
      ]
    },
    {
      "cell_type": "code",
      "metadata": {
        "colab": {
          "base_uri": "https://localhost:8080/",
          "height": 177
        },
        "id": "jbW5abK-8Her",
        "outputId": "555fa699-7ba2-401a-ec2d-ebddd08f06e1"
      },
      "source": [
        "file=open('ctbc81.txt','r')\n",
        "text=file.read()\n",
        "text"
      ],
      "execution_count": 2,
      "outputs": [
        {
          "output_type": "execute_result",
          "data": {
            "application/vnd.google.colaboratory.intrinsic+json": {
              "type": "string"
            },
            "text/plain": [
              "'在加密貨幣及移動支付的盛行下，衍生加密貨幣及各類非官方之移動支付易成為金融犯罪工具。\\n而為了確保金融的穩定和包容性，各國已開始積極研究央行數位貨幣，其中以中國的央行數位人民幣(DCEP)領先全球發行。\\n而DCEP在中國人民銀行的發行下，遵循雙層營運系統，為目前領先全球的主權數字貨幣，且由央行政府在後台監控數據，減少詐騙及洗錢等金融犯罪。\\n然而對於推行DCEP時，不管於中國境內推行，或是未來於國際上廣為流通，皆可能存在資安、監管等風險，為能及早進行DCEP風險之預防及改善。\\n本研究期望透過DCEP與加密貨幣及移動支付比較，找出DCEP可能存在之風險因子及辨識DCEP應用於中國境內及國際上潛在之風險及其重要程度，以提供未來政府推行CEPT時，央行及金融監理單位之參考。\\n為達研究目的，本研究首先採用文獻評析法，分析出DCEP於中國境內推行可能的風險構面包含作業風險、資安風險、替代風險、推廣風險、監管風險與操控風險等6個風險構面共16個風險因子。\\n於國際上推行則包含作業風險、資安風險、轉換風險、推廣風險、流通風險與監管風險等6個風險構面共9個風險因子。\\n依此，本研究設計出DCEP推行風險因子之AHP專家問卷，並蒐集七位科技金融相關領域專家問卷，問卷回收後，本研究利用AHP層級分析法進行分析。\\n研究結果發現，DCEP於中國境內推行之核心風險構面為資安風險，主風險因子為駭客入侵，其次為詐欺、竊盜問題。\\n於國際上推行之核心風險構面為監管風險，其次為資安風險，而主風險因子為國際流通。\\n'"
            ]
          },
          "metadata": {},
          "execution_count": 2
        }
      ]
    },
    {
      "cell_type": "code",
      "metadata": {
        "id": "hi18l1yk8m1k"
      },
      "source": [
        "from textrank4zh import TextRank4Sentence"
      ],
      "execution_count": 3,
      "outputs": []
    },
    {
      "cell_type": "code",
      "metadata": {
        "id": "1Nw-ddbFgOdZ",
        "colab": {
          "base_uri": "https://localhost:8080/"
        },
        "outputId": "69f7e5ed-070f-4a59-ba47-0c404732e9b8"
      },
      "source": [
        "tr4s = TextRank4Sentence()\n",
        "tr4s.analyze(text=text, lower=True, source = 'all_filters')\n",
        "\n",
        "print()\n",
        "print( '摘要：' )\n",
        "for item in tr4s.get_key_sentences(num=3):\n",
        "    print(item.index, item.weight, item.sentence)  # index是句子在文本中位置，weight是此句子的重要性"
      ],
      "execution_count": 5,
      "outputs": [
        {
          "output_type": "stream",
          "name": "stdout",
          "text": [
            "\n",
            "摘要：\n",
            "4 0.13995489065726643 本研究期望透過DCEP與加密貨幣及移動支付比較，找出DCEP可能存在之風險因子及辨識DCEP應用於中國境內及國際上潛在之風險及其重要程度，以提供未來政府推行CEPT時，央行及金融監理單位之參考\n",
            "5 0.11954158856364255 為達研究目的，本研究首先採用文獻評析法，分析出DCEP於中國境內推行可能的風險構面包含作業風險、資安風險、替代風險、推廣風險、監管風險與操控風險等6個風險構面共16個風險因子\n",
            "8 0.11019604026367677 研究結果發現，DCEP於中國境內推行之核心風險構面為資安風險，主風險因子為駭客入侵，其次為詐欺、竊盜問題\n"
          ]
        }
      ]
    }
  ]
}