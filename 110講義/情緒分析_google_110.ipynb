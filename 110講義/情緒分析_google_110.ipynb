{
  "nbformat": 4,
  "nbformat_minor": 0,
  "metadata": {
    "colab": {
      "name": "情緒分析_google_110",
      "provenance": [],
      "collapsed_sections": []
    },
    "kernelspec": {
      "name": "python3",
      "display_name": "Python 3"
    }
  },
  "cells": [
    {
      "cell_type": "code",
      "metadata": {
        "id": "T17KnkFaaTdh"
      },
      "source": [
        "#匯入Google Cloud NL API \n",
        "!pip install -- google-cloud-language"
      ],
      "execution_count": null,
      "outputs": []
    },
    {
      "cell_type": "code",
      "metadata": {
        "id": "xiAFLZdeaew1"
      },
      "source": [
        "#os模組--調用操作系統命令，來達成建立文件，刪除文件，查詢文件等。\n",
        "#os.environ--利用此語法讀取json檔，連結google Natural Language API 進行授權。\n",
        "import os\n",
        "os.environ[\"GOOGLE_APPLICATION_CREDENTIALS\"]=\"My Project-情緒分析.json\""
      ],
      "execution_count": 16,
      "outputs": []
    },
    {
      "cell_type": "code",
      "metadata": {
        "id": "71g_Js3yahi2"
      },
      "source": [
        "#匯入模組\n",
        "from google.cloud import language        #(選填)要求中的文字語言。如未指定，系統將會自動偵測該語言。\n",
        "from google.cloud.language import enums  #enums--列舉模組-可以把一組相關常量詞定義在一個class中，且class不可變，而且成員可以直接比較。\n",
        "from google.cloud.language import types  #使用type檢視檔案的型別"
      ],
      "execution_count": 17,
      "outputs": []
    },
    {
      "cell_type": "code",
      "metadata": {
        "id": "Ow1Y6KcFcKnv"
      },
      "source": [
        "#進行客戶端身分驗證\n",
        "client = language.LanguageServiceClient()"
      ],
      "execution_count": 18,
      "outputs": []
    },
    {
      "cell_type": "markdown",
      "metadata": {
        "id": "VChh98Yealk2"
      },
      "source": [
        "**分析句子**"
      ]
    },
    {
      "cell_type": "code",
      "metadata": {
        "id": "u_69hrElaonG",
        "colab": {
          "base_uri": "https://localhost:8080/"
        },
        "outputId": "748c5047-58dc-4d28-cd25-91c44429e10d"
      },
      "source": [
        "#單一句子的情緒分析\n",
        "#content--提供要評估的文字。 type--文件類型 PLAIN_TEXT (純文檔)\n",
        "text = u'我氣死了'\n",
        "#text = u'哥哥總是我行我素，媽媽責備他，他仍把媽媽的話當耳邊風，媽媽非常生氣'\n",
        "#text = u\"他的功課不好，但是他發憤圖強，最後得到好成績，值得當我們的模範\"\n",
        "#text = u\"聽完她甜美的歌聲，覺得今天將會是美好的一天\"\n",
        "document = types.Document(content=text,type=enums.Document.Type.PLAIN_TEXT)\n",
        "\n",
        "##sentiment.score (情緒分數) 範圍介於 -1.0(負面)和1.0(正面)之間，可反映文字的整體情緒傾向。 sentiment.magnitude (情緒幅度) 指定文字的整體情緒強度 (包括正面和負面)，介於 0.0 和 +inf 之間。\n",
        "sentiment = client.analyze_sentiment(document=document).document_sentiment\n",
        "print('情緒分數 {}, 情緒幅度 {}'.format(sentiment.score, sentiment.magnitude))\n"
      ],
      "execution_count": 19,
      "outputs": [
        {
          "output_type": "stream",
          "name": "stdout",
          "text": [
            "情緒分數 -0.800000011920929, 情緒幅度 0.800000011920929\n"
          ]
        }
      ]
    },
    {
      "cell_type": "markdown",
      "metadata": {
        "id": "BDwJmHOVasQ-"
      },
      "source": [
        "**文章分析**"
      ]
    },
    {
      "cell_type": "code",
      "metadata": {
        "id": "eIYx8-_4a0tW"
      },
      "source": [
        "#文本之情緒分析\n",
        "import codecs\n",
        "document1 = codecs.open('earthquake.txt','rU','utf8').read()\n",
        "document = types.Document(content=document1,type=enums.Document.Type.PLAIN_TEXT)"
      ],
      "execution_count": 27,
      "outputs": []
    },
    {
      "cell_type": "code",
      "metadata": {
        "id": "PekXKlsha96m",
        "colab": {
          "base_uri": "https://localhost:8080/"
        },
        "outputId": "f65a41e2-8d6a-4787-cef5-7c7a55b0d0c5"
      },
      "source": [
        "#情緒分析\n",
        "sentiment = client.analyze_sentiment(document).document_sentiment\n",
        "\n",
        "#sentiment.score (情緒分數)範圍介於 -1.0(負面)和1.0(正面)之間，可反映文字的整體情緒傾向。 sentiment.magnitude (情緒幅度)指定文字的整體情緒強度 (包括正面和負面)，介於 0.0 和 +inf 之間。\n",
        "#print('文本內容: {}'.format(document1))\n",
        "print('情緒分數 {}, 情緒幅度 {}'.format(sentiment.score, sentiment.magnitude))"
      ],
      "execution_count": 28,
      "outputs": [
        {
          "output_type": "stream",
          "name": "stdout",
          "text": [
            "情緒分數 0.20000000298023224, 情緒幅度 4.800000190734863\n"
          ]
        }
      ]
    },
    {
      "cell_type": "code",
      "metadata": {
        "colab": {
          "base_uri": "https://localhost:8080/"
        },
        "id": "jt5TRa9-uVSM",
        "outputId": "fc633c1c-30b7-4b48-b848-211b76ff8b19"
      },
      "source": [
        "document1 = codecs.open('失火.txt','rU','utf8').read()\n",
        "document = types.Document(content=document1,type=enums.Document.Type.PLAIN_TEXT)\n",
        "sentiment = client.analyze_sentiment(document,encoding_type='UTF8').document_sentiment\n",
        "print('情緒分數 {}, 情緒幅度 {}'.format(sentiment.score, sentiment.magnitude))"
      ],
      "execution_count": 30,
      "outputs": [
        {
          "output_type": "stream",
          "name": "stdout",
          "text": [
            "情緒分數 -0.10000000149011612, 情緒幅度 1.600000023841858\n"
          ]
        }
      ]
    }
  ]
}