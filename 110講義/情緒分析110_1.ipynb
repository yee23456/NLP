{
  "nbformat": 4,
  "nbformat_minor": 0,
  "metadata": {
    "colab": {
      "name": "情緒分析110_1",
      "provenance": [],
      "collapsed_sections": []
    },
    "kernelspec": {
      "name": "python3",
      "display_name": "Python 3"
    }
  },
  "cells": [
    {
      "cell_type": "markdown",
      "metadata": {
        "id": "tvzMnkWpSTX4"
      },
      "source": [
        "## **安裝jieba模組**"
      ]
    },
    {
      "cell_type": "code",
      "metadata": {
        "id": "3ueff7-PYKi8",
        "colab": {
          "base_uri": "https://localhost:8080/"
        },
        "outputId": "d185e086-c33c-4ecf-cca4-d2bfcae7f26b"
      },
      "source": [
        "!pip install jieba\n",
        "import jieba\n",
        "import pandas as pd"
      ],
      "execution_count": 22,
      "outputs": [
        {
          "output_type": "stream",
          "name": "stdout",
          "text": [
            "Requirement already satisfied: jieba in /usr/local/lib/python3.7/dist-packages (0.42.1)\n"
          ]
        }
      ]
    },
    {
      "cell_type": "code",
      "source": [
        "#給予負向情感以負分表示\n",
        "pos1=pd.read_excel('pos1.xlsx')\n",
        "neg1=pd.read_excel('neg1.xlsx')\n",
        "neg1['score']=-1*neg1['score']\n",
        "neg1"
      ],
      "metadata": {
        "colab": {
          "base_uri": "https://localhost:8080/",
          "height": 423
        },
        "id": "-3DOPpamDLeX",
        "outputId": "4f6d108e-55ed-4d7f-94c1-9ee68fc215d2"
      },
      "execution_count": 23,
      "outputs": [
        {
          "output_type": "execute_result",
          "data": {
            "text/html": [
              "\n",
              "  <div id=\"df-26c1a937-62f3-47fd-8bfc-0dd7a77cf10b\">\n",
              "    <div class=\"colab-df-container\">\n",
              "      <div>\n",
              "<style scoped>\n",
              "    .dataframe tbody tr th:only-of-type {\n",
              "        vertical-align: middle;\n",
              "    }\n",
              "\n",
              "    .dataframe tbody tr th {\n",
              "        vertical-align: top;\n",
              "    }\n",
              "\n",
              "    .dataframe thead th {\n",
              "        text-align: right;\n",
              "    }\n",
              "</style>\n",
              "<table border=\"1\" class=\"dataframe\">\n",
              "  <thead>\n",
              "    <tr style=\"text-align: right;\">\n",
              "      <th></th>\n",
              "      <th>Unnamed: 0</th>\n",
              "      <th>word</th>\n",
              "      <th>score</th>\n",
              "    </tr>\n",
              "  </thead>\n",
              "  <tbody>\n",
              "    <tr>\n",
              "      <th>0</th>\n",
              "      <td>0</td>\n",
              "      <td>髒亂</td>\n",
              "      <td>-7</td>\n",
              "    </tr>\n",
              "    <tr>\n",
              "      <th>1</th>\n",
              "      <td>1</td>\n",
              "      <td>糟報</td>\n",
              "      <td>-5</td>\n",
              "    </tr>\n",
              "    <tr>\n",
              "      <th>2</th>\n",
              "      <td>2</td>\n",
              "      <td>早衰</td>\n",
              "      <td>-5</td>\n",
              "    </tr>\n",
              "    <tr>\n",
              "      <th>3</th>\n",
              "      <td>3</td>\n",
              "      <td>責備</td>\n",
              "      <td>-5</td>\n",
              "    </tr>\n",
              "    <tr>\n",
              "      <th>4</th>\n",
              "      <td>4</td>\n",
              "      <td>賊眼</td>\n",
              "      <td>-5</td>\n",
              "    </tr>\n",
              "    <tr>\n",
              "      <th>...</th>\n",
              "      <td>...</td>\n",
              "      <td>...</td>\n",
              "      <td>...</td>\n",
              "    </tr>\n",
              "    <tr>\n",
              "      <th>10750</th>\n",
              "      <td>10750</td>\n",
              "      <td>很爛</td>\n",
              "      <td>-5</td>\n",
              "    </tr>\n",
              "    <tr>\n",
              "      <th>10751</th>\n",
              "      <td>10751</td>\n",
              "      <td>爛尾</td>\n",
              "      <td>-3</td>\n",
              "    </tr>\n",
              "    <tr>\n",
              "      <th>10752</th>\n",
              "      <td>10752</td>\n",
              "      <td>圈錢</td>\n",
              "      <td>-5</td>\n",
              "    </tr>\n",
              "    <tr>\n",
              "      <th>10753</th>\n",
              "      <td>10753</td>\n",
              "      <td>無趣</td>\n",
              "      <td>-3</td>\n",
              "    </tr>\n",
              "    <tr>\n",
              "      <th>10754</th>\n",
              "      <td>10754</td>\n",
              "      <td>差評</td>\n",
              "      <td>-3</td>\n",
              "    </tr>\n",
              "  </tbody>\n",
              "</table>\n",
              "<p>10755 rows × 3 columns</p>\n",
              "</div>\n",
              "      <button class=\"colab-df-convert\" onclick=\"convertToInteractive('df-26c1a937-62f3-47fd-8bfc-0dd7a77cf10b')\"\n",
              "              title=\"Convert this dataframe to an interactive table.\"\n",
              "              style=\"display:none;\">\n",
              "        \n",
              "  <svg xmlns=\"http://www.w3.org/2000/svg\" height=\"24px\"viewBox=\"0 0 24 24\"\n",
              "       width=\"24px\">\n",
              "    <path d=\"M0 0h24v24H0V0z\" fill=\"none\"/>\n",
              "    <path d=\"M18.56 5.44l.94 2.06.94-2.06 2.06-.94-2.06-.94-.94-2.06-.94 2.06-2.06.94zm-11 1L8.5 8.5l.94-2.06 2.06-.94-2.06-.94L8.5 2.5l-.94 2.06-2.06.94zm10 10l.94 2.06.94-2.06 2.06-.94-2.06-.94-.94-2.06-.94 2.06-2.06.94z\"/><path d=\"M17.41 7.96l-1.37-1.37c-.4-.4-.92-.59-1.43-.59-.52 0-1.04.2-1.43.59L10.3 9.45l-7.72 7.72c-.78.78-.78 2.05 0 2.83L4 21.41c.39.39.9.59 1.41.59.51 0 1.02-.2 1.41-.59l7.78-7.78 2.81-2.81c.8-.78.8-2.07 0-2.86zM5.41 20L4 18.59l7.72-7.72 1.47 1.35L5.41 20z\"/>\n",
              "  </svg>\n",
              "      </button>\n",
              "      \n",
              "  <style>\n",
              "    .colab-df-container {\n",
              "      display:flex;\n",
              "      flex-wrap:wrap;\n",
              "      gap: 12px;\n",
              "    }\n",
              "\n",
              "    .colab-df-convert {\n",
              "      background-color: #E8F0FE;\n",
              "      border: none;\n",
              "      border-radius: 50%;\n",
              "      cursor: pointer;\n",
              "      display: none;\n",
              "      fill: #1967D2;\n",
              "      height: 32px;\n",
              "      padding: 0 0 0 0;\n",
              "      width: 32px;\n",
              "    }\n",
              "\n",
              "    .colab-df-convert:hover {\n",
              "      background-color: #E2EBFA;\n",
              "      box-shadow: 0px 1px 2px rgba(60, 64, 67, 0.3), 0px 1px 3px 1px rgba(60, 64, 67, 0.15);\n",
              "      fill: #174EA6;\n",
              "    }\n",
              "\n",
              "    [theme=dark] .colab-df-convert {\n",
              "      background-color: #3B4455;\n",
              "      fill: #D2E3FC;\n",
              "    }\n",
              "\n",
              "    [theme=dark] .colab-df-convert:hover {\n",
              "      background-color: #434B5C;\n",
              "      box-shadow: 0px 1px 3px 1px rgba(0, 0, 0, 0.15);\n",
              "      filter: drop-shadow(0px 1px 2px rgba(0, 0, 0, 0.3));\n",
              "      fill: #FFFFFF;\n",
              "    }\n",
              "  </style>\n",
              "\n",
              "      <script>\n",
              "        const buttonEl =\n",
              "          document.querySelector('#df-26c1a937-62f3-47fd-8bfc-0dd7a77cf10b button.colab-df-convert');\n",
              "        buttonEl.style.display =\n",
              "          google.colab.kernel.accessAllowed ? 'block' : 'none';\n",
              "\n",
              "        async function convertToInteractive(key) {\n",
              "          const element = document.querySelector('#df-26c1a937-62f3-47fd-8bfc-0dd7a77cf10b');\n",
              "          const dataTable =\n",
              "            await google.colab.kernel.invokeFunction('convertToInteractive',\n",
              "                                                     [key], {});\n",
              "          if (!dataTable) return;\n",
              "\n",
              "          const docLinkHtml = 'Like what you see? Visit the ' +\n",
              "            '<a target=\"_blank\" href=https://colab.research.google.com/notebooks/data_table.ipynb>data table notebook</a>'\n",
              "            + ' to learn more about interactive tables.';\n",
              "          element.innerHTML = '';\n",
              "          dataTable['output_type'] = 'display_data';\n",
              "          await google.colab.output.renderOutput(dataTable, element);\n",
              "          const docLink = document.createElement('div');\n",
              "          docLink.innerHTML = docLinkHtml;\n",
              "          element.appendChild(docLink);\n",
              "        }\n",
              "      </script>\n",
              "    </div>\n",
              "  </div>\n",
              "  "
            ],
            "text/plain": [
              "       Unnamed: 0 word  score\n",
              "0               0   髒亂     -7\n",
              "1               1   糟報     -5\n",
              "2               2   早衰     -5\n",
              "3               3   責備     -5\n",
              "4               4   賊眼     -5\n",
              "...           ...  ...    ...\n",
              "10750       10750   很爛     -5\n",
              "10751       10751   爛尾     -3\n",
              "10752       10752   圈錢     -5\n",
              "10753       10753   無趣     -3\n",
              "10754       10754   差評     -3\n",
              "\n",
              "[10755 rows x 3 columns]"
            ]
          },
          "metadata": {},
          "execution_count": 23
        }
      ]
    },
    {
      "cell_type": "code",
      "source": [
        "#將正負情感檔案合併成情感辭典\n",
        "pos_dict = dict(zip(pos1['word'],pos1['score']))\n",
        "neg_dict = dict(zip(neg1['word'],neg1['score']))\n",
        "sentment_dict={**pos_dict,**neg_dict}\n",
        "#sentment_dict"
      ],
      "metadata": {
        "id": "IUg--SDdD3tt"
      },
      "execution_count": 24,
      "outputs": []
    },
    {
      "cell_type": "code",
      "metadata": {
        "id": "dnkf8DK6tsDu"
      },
      "source": [
        "#在情緒辭典中的文字一定要分詞出來\n",
        "for w in sentment_dict.keys():\n",
        "  jieba.suggest_freq(w,True)"
      ],
      "execution_count": 25,
      "outputs": []
    },
    {
      "cell_type": "code",
      "metadata": {
        "id": "bHMJVlkn2WBt"
      },
      "source": [
        "#針對文本先進行斷詞後，計算文本的平均情緒分數值\n",
        "def get_sentment(sent):\n",
        "    tokens = jieba.lcut(sent)\n",
        "    score = 0\n",
        "    countword = 0\n",
        "    for w in tokens:\n",
        "        \n",
        "        if w in sentment_dict.keys():\n",
        "            print(w, end=\" \")\n",
        "            print(sentment_dict[w])\n",
        "            score += sentment_dict[w]\n",
        "            countword += 1\n",
        "    print(\"平均情緒分數為\")\n",
        "    if countword != 0:\n",
        "        return score/countword\n",
        "    else:\n",
        "        return 0"
      ],
      "execution_count": 26,
      "outputs": []
    },
    {
      "cell_type": "code",
      "metadata": {
        "id": "9vlae6e53pIu",
        "colab": {
          "base_uri": "https://localhost:8080/"
        },
        "outputId": "6214696a-17fc-42d8-a4f8-283b1c065fa5"
      },
      "source": [
        "#句子之情感分析\n",
        "sent =u\"哥哥總是我行我素，媽媽責備他，他仍把媽媽的話當耳邊風，媽媽非常生氣\"\n",
        "get_sentment(sent)"
      ],
      "execution_count": 31,
      "outputs": [
        {
          "output_type": "stream",
          "name": "stdout",
          "text": [
            "我行我素 -5\n",
            "責備 -5\n",
            "耳邊風 -7\n",
            "生氣 -5\n",
            "平均情緒分數為\n"
          ]
        },
        {
          "output_type": "execute_result",
          "data": {
            "text/plain": [
              "-5.5"
            ]
          },
          "metadata": {},
          "execution_count": 31
        }
      ]
    },
    {
      "cell_type": "code",
      "source": [
        "sent =u\"他的功課不好，但是他發憤圖強，最後得到好成績，值得當我們的模範\"\n",
        "get_sentment(sent)"
      ],
      "metadata": {
        "id": "2BGd7drq2od2"
      },
      "execution_count": null,
      "outputs": []
    },
    {
      "cell_type": "code",
      "source": [
        "sent =u\"聽完她甜美的歌聲，覺得今天將會是美好的一天\"\n",
        "get_sentment(sent)"
      ],
      "metadata": {
        "id": "Eg-lnznRAddq"
      },
      "execution_count": null,
      "outputs": []
    },
    {
      "cell_type": "code",
      "source": [
        "#文本之情感分析\n",
        "file=open('earthquake.txt','r')\n",
        "document1=file.read()\n",
        "get_sentment(document1)"
      ],
      "metadata": {
        "id": "ghrpcOkBB68w"
      },
      "execution_count": null,
      "outputs": []
    }
  ]
}