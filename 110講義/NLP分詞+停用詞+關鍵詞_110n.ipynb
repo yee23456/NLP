{
  "nbformat": 4,
  "nbformat_minor": 0,
  "metadata": {
    "colab": {
      "name": "NLP分詞+停用詞+關鍵詞_110n",
      "provenance": [],
      "collapsed_sections": []
    },
    "kernelspec": {
      "name": "python3",
      "display_name": "Python 3"
    }
  },
  "cells": [
    {
      "cell_type": "code",
      "metadata": {
        "colab": {
          "base_uri": "https://localhost:8080/"
        },
        "id": "f1J9BukDxc8n",
        "outputId": "6d23e0b2-47d8-48a8-ec00-c3679ee1d88f"
      },
      "source": [
        "!pip install jieba"
      ],
      "execution_count": 1,
      "outputs": [
        {
          "output_type": "stream",
          "name": "stdout",
          "text": [
            "Requirement already satisfied: jieba in /usr/local/lib/python3.7/dist-packages (0.42.1)\n"
          ]
        }
      ]
    },
    {
      "cell_type": "markdown",
      "metadata": {
        "id": "pSXKcRbKPYnM"
      },
      "source": [
        "#資料預處理\n",
        "先將文本進行斷詞及去停用詞"
      ]
    },
    {
      "cell_type": "code",
      "metadata": {
        "id": "CnhMEvGQaAcC"
      },
      "source": [
        "#讀取預斷詞之檔案\n",
        "file=open('ctbc8.txt','r')\n",
        "document1=file.read()\n",
        "#document1"
      ],
      "execution_count": 3,
      "outputs": []
    },
    {
      "cell_type": "code",
      "metadata": {
        "id": "02SBlRuHa267",
        "colab": {
          "base_uri": "https://localhost:8080/"
        },
        "outputId": "194991dd-b3fd-43e3-cf34-d3a062e2bb63"
      },
      "source": [
        "#採用jieba進行斷詞，並以list存成變數word11\n",
        "import jieba\n",
        "word11 = jieba.lcut(document1, cut_all=False)\n",
        "#print(\"/\".join(word11))"
      ],
      "execution_count": 4,
      "outputs": [
        {
          "output_type": "stream",
          "name": "stderr",
          "text": [
            "Building prefix dict from the default dictionary ...\n",
            "Dumping model to file cache /tmp/jieba.cache\n",
            "Loading model cost 1.044 seconds.\n",
            "Prefix dict has been built successfully.\n"
          ]
        }
      ]
    },
    {
      "cell_type": "code",
      "metadata": {
        "id": "L-pdc-4Q3YSw"
      },
      "source": [
        "#開啟停用詞檔案，並以List格式存成變數stoplist\n",
        "file3=open(u'stopwords0.txt','r',encoding='UTF-8')\n",
        "stops=file3.readlines()\n",
        "stopslist=[]\n",
        "for ww in stops:\n",
        "  stopslist.append(ww.strip())\n",
        "stopslist.append(\" \")#再加入兩個停用詞\n",
        "stopslist.append(\"\\n\")\n",
        "#print(stopslist)  "
      ],
      "execution_count": 6,
      "outputs": []
    },
    {
      "cell_type": "code",
      "metadata": {
        "id": "21OOkiX_mOYi",
        "colab": {
          "base_uri": "https://localhost:8080/"
        },
        "outputId": "442c7c69-ab43-44bc-fd21-17b32404e43c"
      },
      "source": [
        "#排除停用詞之分詞結果\n",
        "resultlist=[]\n",
        "for word in word11:\n",
        "  if word not in stopslist:\n",
        "    resultlist.append(word)\n",
        "print(resultlist)  "
      ],
      "execution_count": 7,
      "outputs": [
        {
          "output_type": "stream",
          "name": "stdout",
          "text": [
            "['繳學費', '刷', '這張', '卡', '6', '期', '分期', '0', '利率', '還有', '1', '現金', '回饋', 'LiTV', '聯手', '信用卡', '祭', '優惠', '二路', '並進', '搶攻', '影劇迷', 'PChome', '超狂', '刷卡', '回饋', '神算', '線上', '工具', '刷', '哪', '張卡', '哪種', '支付', '最', '划算', '就', '讓', '它', '解答', '6', '月', '繳稅', '加持', '創', '新高', '\\u3000', '刷卡', '金額', '爆衝', '3282', '億', '刷卡', '加油', '竟變', '盜刷', '收單行', '中信', '銀', '第一次', '遇到', '7', '月', '繳汽機車', '燃料', '稅', '這', '5', '家', '信用卡', '免手續', '費且', '有', '回', '饋繳', '燃料', '費', '刷', '哪', '張卡', '最', '划算', '中國信', '託', '銀行', '率先', '同業', '打造', '全', '渠道', '數位', '平台', '信用卡', '繳稅', '6', '月', '簽帳', '額飆', '鞏固', '信用卡', '三哥', '地位', '玉山', '銀', '推新卡', '主打', '現金', '回饋', '搶', '客銀行', '帳戶', '綁', 'LINE', '優惠多', '指定', '信用卡', '回饋', '上', '看', '25%', '\\u3000', 'LINE', 'Pay', '導入', '星巴克', '付款', '網購族', '該', '刷', '哪', '張卡', '10', '大', '最', '夯', '網購', '信用卡', '報', '你', '知', '\\u3000', '最高', '現金', '回饋', '6', '數位', '服務', '神助', '信用', '額度', '調整', '從', '2', '天縮', '短', '至', '2', '分鐘', '海外', '旅遊刷', '哪張', '聯邦', '銀', '全面', '3', '最優', '兆', '豐限時', '送', '3000', '趟', '免費', '機接', '追', '韓粉', '衝下載', 'PX', 'Pay', '下載量', '破', '2', '百萬次', '統一超', '除息', '行情', '熱', '早盤', '填息', '近', '4', '成收', '復', '300', '元價位', '行動', '支付', '搶', '暑假', '商機', '回饋', '15%', '點數', '行動', '支付', '業者', '搶', '暑假', '消費', '旺季', '\\u3000', '多比較', '優惠', '撿', '便宜', '超商', '雙雄', '搶', '攻會員', '經濟', '全家', '會員', '破千萬', '統一', '超客', '單價', '多四成', '3', '家', '全上', '純網', '銀', '執照', '名', '單終', '於', '揭曉', '將來', '銀行', 'LINE', 'Bank', '樂天', '銀行', '通通', '取得', '執照', '各自', '優勢', '大比較']\n"
          ]
        }
      ]
    },
    {
      "cell_type": "code",
      "metadata": {
        "id": "eg2tKSEZ1Hqa"
      },
      "source": [
        "#將最後結果儲存在檔案test4中\n",
        "file4=open(r'test4.txt','w', encoding='UTF-8') \n",
        "list1=\" \".join(resultlist)\n",
        "file4.write(list1)\n",
        "file4.close()"
      ],
      "execution_count": 8,
      "outputs": []
    },
    {
      "cell_type": "markdown",
      "metadata": {
        "id": "yRNYCF68PmrB"
      },
      "source": [
        "#關鍵詞分析\n",
        "將已乾淨的分詞資料進行關鍵詞分析"
      ]
    },
    {
      "cell_type": "markdown",
      "metadata": {
        "id": "OCNV_qlEPzgn"
      },
      "source": [
        "方法一:jieba之TF-IDF"
      ]
    },
    {
      "cell_type": "code",
      "metadata": {
        "id": "4A6q-O2NMECy",
        "colab": {
          "base_uri": "https://localhost:8080/"
        },
        "outputId": "64627e15-11f4-443f-c799-fe47fd5a7091"
      },
      "source": [
        "import jieba.analyse\n",
        "file3=open('test4.txt','r')\n",
        "doc2=file3.read()\n",
        "#輸出文件前5個關鍵詞，默認表20個\n",
        "keywords=jieba.analyse.extract_tags(doc2,topK=5,withWeight=True)\n",
        "for key, weight in keywords:\n",
        "  print('%s %f'%( key, weight))"
      ],
      "execution_count": 9,
      "outputs": [
        {
          "output_type": "stream",
          "name": "stdout",
          "text": [
            "回饋 0.424430\n",
            "信用卡 0.294623\n",
            "現金 0.212215\n",
            "張卡 0.212215\n",
            "銀行 0.212215\n"
          ]
        }
      ]
    },
    {
      "cell_type": "code",
      "metadata": {
        "id": "oqeCNCuAOntd",
        "colab": {
          "base_uri": "https://localhost:8080/"
        },
        "outputId": "b814aa62-08ce-43f7-9d6a-bead7d83ff20"
      },
      "source": [
        "#僅針對名詞進行關鍵詞分析\n",
        "data1=jieba.analyse.extract_tags(document1,topK=5,withWeight=True,allowPOS=(\"n\"))\n",
        "for tag in data1:\n",
        "  print('Word=',tag[0],'TF-IDF=',tag[1])"
      ],
      "execution_count": 10,
      "outputs": [
        {
          "output_type": "stream",
          "name": "stdout",
          "text": [
            "Word= 信用卡 TF-IDF= 0.9958270597319998\n",
            "Word= 現金 TF-IDF= 0.7172860501739999\n",
            "Word= 刷卡 TF-IDF= 0.5774406919776\n",
            "Word= 數位 TF-IDF= 0.47819070011599996\n",
            "Word= 銀行 TF-IDF= 0.47819070011599996\n"
          ]
        }
      ]
    },
    {
      "cell_type": "markdown",
      "metadata": {
        "id": "JOL473Y7RC7D"
      },
      "source": [
        "方法二:jieba之textrank"
      ]
    },
    {
      "cell_type": "code",
      "metadata": {
        "colab": {
          "base_uri": "https://localhost:8080/"
        },
        "id": "IVAks4kjQGVr",
        "outputId": "5bb88335-1931-451d-976b-392c88c669f7"
      },
      "source": [
        "data2=jieba.analyse.textrank(doc2,topK=5,withWeight=True)\n",
        "for key, weight in data2:\n",
        "  print('%s %f'%( key, weight))"
      ],
      "execution_count": 11,
      "outputs": [
        {
          "output_type": "stream",
          "name": "stdout",
          "text": [
            "信用卡 1.000000\n",
            "回饋 0.815031\n",
            "刷卡 0.580519\n",
            "支付 0.494555\n",
            "數位 0.458401\n"
          ]
        }
      ]
    },
    {
      "cell_type": "code",
      "metadata": {
        "colab": {
          "base_uri": "https://localhost:8080/"
        },
        "id": "6Qvtl2sWQmT6",
        "outputId": "a47c58d3-f058-4426-c36b-627e401aaf5c"
      },
      "source": [
        "data21=jieba.analyse.textrank(doc2,topK=5,withWeight=True,allowPOS=(\"n\"))\n",
        "for key, weight in data21:\n",
        "  print('%s %f'%( key, weight))"
      ],
      "execution_count": 12,
      "outputs": [
        {
          "output_type": "stream",
          "name": "stdout",
          "text": [
            "信用卡 1.000000\n",
            "刷卡 0.668460\n",
            "數位 0.557953\n",
            "平台 0.555857\n",
            "經濟 0.541037\n"
          ]
        }
      ]
    },
    {
      "cell_type": "markdown",
      "metadata": {
        "id": "DjfT1UAVVodx"
      },
      "source": [
        "方法三:textrank4zh之textrank"
      ]
    },
    {
      "cell_type": "code",
      "metadata": {
        "id": "_kzlZZbbR89D",
        "colab": {
          "base_uri": "https://localhost:8080/"
        },
        "outputId": "ebb0ad4d-dac8-41b3-f4ba-ed82dc4326e3"
      },
      "source": [
        "!pip install textrank4zh"
      ],
      "execution_count": 13,
      "outputs": [
        {
          "output_type": "stream",
          "name": "stdout",
          "text": [
            "Collecting textrank4zh\n",
            "  Downloading textrank4zh-0.3.zip (13 kB)\n",
            "Requirement already satisfied: jieba>=0.35 in /usr/local/lib/python3.7/dist-packages (from textrank4zh) (0.42.1)\n",
            "Requirement already satisfied: numpy>=1.7.1 in /usr/local/lib/python3.7/dist-packages (from textrank4zh) (1.19.5)\n",
            "Requirement already satisfied: networkx>=1.9.1 in /usr/local/lib/python3.7/dist-packages (from textrank4zh) (2.6.3)\n",
            "Building wheels for collected packages: textrank4zh\n",
            "  Building wheel for textrank4zh (setup.py) ... \u001b[?25l\u001b[?25hdone\n",
            "  Created wheel for textrank4zh: filename=textrank4zh-0.3-py3-none-any.whl size=13421 sha256=fb04d31b70033fecc8ee677f563cf8e834de419b2e4fbcd337a7b2dedb024c99\n",
            "  Stored in directory: /root/.cache/pip/wheels/14/4e/2e/a98380a114c215e21b9220d9ebb73cfa2e4094861d5faaf2ca\n",
            "Successfully built textrank4zh\n",
            "Installing collected packages: textrank4zh\n",
            "Successfully installed textrank4zh-0.3\n"
          ]
        }
      ]
    },
    {
      "cell_type": "code",
      "metadata": {
        "colab": {
          "base_uri": "https://localhost:8080/"
        },
        "id": "5PViruwtSPVt",
        "outputId": "117e852b-b506-4f42-a8cc-916e363946e9"
      },
      "source": [
        "from textrank4zh import TextRank4Keyword\n",
        "tr4w = TextRank4Keyword()\n",
        "tr4w.analyze(text=doc2, lower=True, window=2)\n",
        "\n",
        "print( '前五個關鍵詞：' )\n",
        "for item in tr4w.get_keywords(5, word_min_len=2):\n",
        "    print(item.word, item.weight)"
      ],
      "execution_count": 14,
      "outputs": [
        {
          "output_type": "stream",
          "name": "stdout",
          "text": [
            "前五個關鍵詞：\n",
            "信用卡 0.03151440972903255\n",
            "回饋 0.02533499526011602\n",
            "銀行 0.01748159355762282\n",
            "line 0.01570343923732795\n",
            "暑假 0.014274854219167228\n"
          ]
        }
      ]
    },
    {
      "cell_type": "markdown",
      "metadata": {
        "id": "c1qyedyLmI6Q"
      },
      "source": [
        "利用Sklearn計算TF-IDF"
      ]
    },
    {
      "cell_type": "code",
      "metadata": {
        "id": "L4tiAYxzmQiQ"
      },
      "source": [
        "from sklearn.feature_extraction.text import TfidfVectorizer\n",
        "import pandas as pd"
      ],
      "execution_count": 15,
      "outputs": []
    },
    {
      "cell_type": "code",
      "metadata": {
        "id": "XzDk80N0mWbU"
      },
      "source": [
        "tfidf2 = TfidfVectorizer()\n",
        "re1=tfidf2.fit_transform([doc2])\n",
        "word=tfidf2.get_feature_names()\n",
        "#print(word)\n",
        "#print(re1)"
      ],
      "execution_count": null,
      "outputs": []
    },
    {
      "cell_type": "code",
      "metadata": {
        "colab": {
          "base_uri": "https://localhost:8080/",
          "height": 423
        },
        "id": "JlWgcxZUm2CK",
        "outputId": "70a38738-f704-4ced-d0aa-6fed480dd193"
      },
      "source": [
        "name=[]\n",
        "weight=[]\n",
        "k=0\n",
        "for ii in word:\n",
        "    name.append(ii)\n",
        "    weight.append(re1[0,k])\n",
        "    #print(\"[\",ii,']的權重',re1[0,k])\n",
        "    k=k+1\n",
        "res=pd.DataFrame([name,weight]).T\n",
        "res.columns=['word','weight']\n",
        "res.sort_values(by='weight',ascending=False)"
      ],
      "execution_count": 18,
      "outputs": [
        {
          "output_type": "execute_result",
          "data": {
            "text/html": [
              "<div>\n",
              "<style scoped>\n",
              "    .dataframe tbody tr th:only-of-type {\n",
              "        vertical-align: middle;\n",
              "    }\n",
              "\n",
              "    .dataframe tbody tr th {\n",
              "        vertical-align: top;\n",
              "    }\n",
              "\n",
              "    .dataframe thead th {\n",
              "        text-align: right;\n",
              "    }\n",
              "</style>\n",
              "<table border=\"1\" class=\"dataframe\">\n",
              "  <thead>\n",
              "    <tr style=\"text-align: right;\">\n",
              "      <th></th>\n",
              "      <th>word</th>\n",
              "      <th>weight</th>\n",
              "    </tr>\n",
              "  </thead>\n",
              "  <tbody>\n",
              "    <tr>\n",
              "      <th>47</th>\n",
              "      <td>回饋</td>\n",
              "      <td>0.356663</td>\n",
              "    </tr>\n",
              "    <tr>\n",
              "      <th>22</th>\n",
              "      <td>信用卡</td>\n",
              "      <td>0.356663</td>\n",
              "    </tr>\n",
              "    <tr>\n",
              "      <th>69</th>\n",
              "      <td>支付</td>\n",
              "      <td>0.178331</td>\n",
              "    </tr>\n",
              "    <tr>\n",
              "      <th>61</th>\n",
              "      <td>張卡</td>\n",
              "      <td>0.178331</td>\n",
              "    </tr>\n",
              "    <tr>\n",
              "      <th>36</th>\n",
              "      <td>刷卡</td>\n",
              "      <td>0.178331</td>\n",
              "    </tr>\n",
              "    <tr>\n",
              "      <th>...</th>\n",
              "      <td>...</td>\n",
              "      <td>...</td>\n",
              "    </tr>\n",
              "    <tr>\n",
              "      <th>43</th>\n",
              "      <td>哪種</td>\n",
              "      <td>0.0594438</td>\n",
              "    </tr>\n",
              "    <tr>\n",
              "      <th>42</th>\n",
              "      <td>哪張</td>\n",
              "      <td>0.0594438</td>\n",
              "    </tr>\n",
              "    <tr>\n",
              "      <th>41</th>\n",
              "      <td>同業</td>\n",
              "      <td>0.0594438</td>\n",
              "    </tr>\n",
              "    <tr>\n",
              "      <th>40</th>\n",
              "      <td>各自</td>\n",
              "      <td>0.0594438</td>\n",
              "    </tr>\n",
              "    <tr>\n",
              "      <th>137</th>\n",
              "      <td>點數</td>\n",
              "      <td>0.0594438</td>\n",
              "    </tr>\n",
              "  </tbody>\n",
              "</table>\n",
              "<p>138 rows × 2 columns</p>\n",
              "</div>"
            ],
            "text/plain": [
              "    word     weight\n",
              "47    回饋   0.356663\n",
              "22   信用卡   0.356663\n",
              "69    支付   0.178331\n",
              "61    張卡   0.178331\n",
              "36    刷卡   0.178331\n",
              "..   ...        ...\n",
              "43    哪種  0.0594438\n",
              "42    哪張  0.0594438\n",
              "41    同業  0.0594438\n",
              "40    各自  0.0594438\n",
              "137   點數  0.0594438\n",
              "\n",
              "[138 rows x 2 columns]"
            ]
          },
          "metadata": {},
          "execution_count": 18
        }
      ]
    }
  ]
}