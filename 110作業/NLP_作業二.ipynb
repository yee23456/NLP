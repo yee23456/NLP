{
  "nbformat": 4,
  "nbformat_minor": 0,
  "metadata": {
    "colab": {
      "name": "NLP_110_作業二",
      "provenance": [],
      "collapsed_sections": []
    },
    "kernelspec": {
      "name": "python3",
      "display_name": "Python 3"
    },
    "language_info": {
      "name": "python"
    }
  },
  "cells": [
    {
      "cell_type": "code",
      "metadata": {
        "colab": {
          "base_uri": "https://localhost:8080/"
        },
        "id": "wh4A9mHLuXLf",
        "outputId": "717e4f28-475f-4d3f-fc9e-61a8966946db"
      },
      "source": [
        "!pip install jieba"
      ],
      "execution_count": 1,
      "outputs": [
        {
          "output_type": "stream",
          "name": "stdout",
          "text": [
            "Requirement already satisfied: jieba in /usr/local/lib/python3.7/dist-packages (0.42.1)\n"
          ]
        }
      ]
    },
    {
      "cell_type": "code",
      "metadata": {
        "id": "-YLfWaRfufHG"
      },
      "source": [
        "import jieba"
      ],
      "execution_count": 2,
      "outputs": []
    },
    {
      "cell_type": "code",
      "metadata": {
        "id": "HBSDOiyhtofX",
        "colab": {
          "base_uri": "https://localhost:8080/"
        },
        "outputId": "0d8de42f-25a8-4295-dd94-4721eedad42c"
      },
      "source": [
        "file=open('文章.txt','r')\n",
        "document1=file.read()\n",
        "jieba.load_userdict('splin1.txt')#分詞\n",
        "seg_list = jieba.lcut(document1, cut_all=False)"
      ],
      "execution_count": 3,
      "outputs": [
        {
          "output_type": "stream",
          "name": "stderr",
          "text": [
            "Building prefix dict from the default dictionary ...\n",
            "Dumping model to file cache /tmp/jieba.cache\n",
            "Loading model cost 1.067 seconds.\n",
            "Prefix dict has been built successfully.\n"
          ]
        }
      ]
    },
    {
      "cell_type": "code",
      "metadata": {
        "id": "SP-LzPNat3s6"
      },
      "source": [
        "#開啟停用詞檔案，並以List格式存成變數stoplist\n",
        "file3=open(u'stopwords0.txt','r',encoding='UTF-8')\n",
        "stops=file3.readlines()\n",
        "stopslist=[]\n",
        "for ww in stops:\n",
        "  stopslist.append(ww.strip())\n",
        "stopslist.append(\" \")#再加入兩個停用詞\n",
        "stopslist.append(\"\\n\")\n",
        "stopslist.append(\"「\")\n",
        "stopslist.append('」')"
      ],
      "execution_count": 4,
      "outputs": []
    },
    {
      "cell_type": "code",
      "metadata": {
        "id": "HzJCj_MNt30u"
      },
      "source": [
        "resultlist=[]\n",
        "for word in seg_list:\n",
        "  if word not in stopslist:\n",
        "    resultlist.append(word)"
      ],
      "execution_count": 5,
      "outputs": []
    },
    {
      "cell_type": "code",
      "metadata": {
        "id": "VJ6jNu98t35i"
      },
      "source": [
        "file4=open(r'test5.txt','w', encoding='UTF-8') \n",
        "list1=\" \".join(resultlist)\n",
        "file4.write(list1)\n",
        "file4.close()"
      ],
      "execution_count": 6,
      "outputs": []
    },
    {
      "cell_type": "markdown",
      "metadata": {
        "id": "kVJdKSO6vIdz"
      },
      "source": [
        "#TF-IDF"
      ]
    },
    {
      "cell_type": "code",
      "metadata": {
        "colab": {
          "base_uri": "https://localhost:8080/"
        },
        "id": "Vw-R2uCxt6Xv",
        "outputId": "592d65bb-e885-4a3c-91aa-f35bbe476e9b"
      },
      "source": [
        "import jieba.analyse\n",
        "file3=open('test5.txt','r')\n",
        "doc2=file3.read()\n",
        "#輸出文件前8個關鍵詞，默認表20個\n",
        "keywords=jieba.analyse.extract_tags(doc2,topK=8,withWeight=True)\n",
        "for key, weight in keywords:\n",
        "  print('%s %f'%( key, weight))"
      ],
      "execution_count": 7,
      "outputs": [
        {
          "output_type": "stream",
          "name": "stdout",
          "text": [
            "空間 0.152614\n",
            "金錢 0.127178\n",
            "時間 0.101743\n",
            "環境 0.101743\n",
            "細節 0.101743\n",
            "節約 0.101743\n",
            "選擇 0.101743\n",
            "格調 0.076307\n"
          ]
        }
      ]
    },
    {
      "cell_type": "markdown",
      "metadata": {
        "id": "l8DNU0ccvuLq"
      },
      "source": [
        "#textrank"
      ]
    },
    {
      "cell_type": "code",
      "metadata": {
        "colab": {
          "base_uri": "https://localhost:8080/"
        },
        "id": "IuvwUprMvK8B",
        "outputId": "1a294069-b7c5-45e4-f7e9-9355314b56c1"
      },
      "source": [
        "!pip install textrank4zh"
      ],
      "execution_count": 8,
      "outputs": [
        {
          "output_type": "stream",
          "name": "stdout",
          "text": [
            "Collecting textrank4zh\n",
            "  Downloading textrank4zh-0.3.zip (13 kB)\n",
            "Requirement already satisfied: jieba>=0.35 in /usr/local/lib/python3.7/dist-packages (from textrank4zh) (0.42.1)\n",
            "Requirement already satisfied: numpy>=1.7.1 in /usr/local/lib/python3.7/dist-packages (from textrank4zh) (1.19.5)\n",
            "Requirement already satisfied: networkx>=1.9.1 in /usr/local/lib/python3.7/dist-packages (from textrank4zh) (2.6.3)\n",
            "Building wheels for collected packages: textrank4zh\n",
            "  Building wheel for textrank4zh (setup.py) ... \u001b[?25l\u001b[?25hdone\n",
            "  Created wheel for textrank4zh: filename=textrank4zh-0.3-py3-none-any.whl size=13421 sha256=7b3866ee0baeca80487a667ecdb5953b7997a070c692e0530c3191e9ab10ce24\n",
            "  Stored in directory: /root/.cache/pip/wheels/14/4e/2e/a98380a114c215e21b9220d9ebb73cfa2e4094861d5faaf2ca\n",
            "Successfully built textrank4zh\n",
            "Installing collected packages: textrank4zh\n",
            "Successfully installed textrank4zh-0.3\n"
          ]
        }
      ]
    },
    {
      "cell_type": "code",
      "metadata": {
        "colab": {
          "base_uri": "https://localhost:8080/"
        },
        "id": "xzRNaVUnvsHJ",
        "outputId": "ad46ba4d-834d-44ba-db73-92d82b496ea2"
      },
      "source": [
        "from textrank4zh import TextRank4Keyword\n",
        "tr4w = TextRank4Keyword()\n",
        "tr4w.analyze(text=doc2, lower=True, window=2)\n",
        "\n",
        "print( '前八個關鍵詞：' )\n",
        "for item in tr4w.get_keywords(8, word_min_len=2):\n",
        "    print(item.word, item.weight)"
      ],
      "execution_count": 9,
      "outputs": [
        {
          "output_type": "stream",
          "name": "stdout",
          "text": [
            "前八個關鍵詞：\n",
            "細節 0.012907127693721234\n",
            "環境 0.0127100174047877\n",
            "金錢 0.011155922492254545\n",
            "空間 0.010586664411072534\n",
            "生活 0.010213207980870402\n",
            "節約 0.01017642890585423\n",
            "文化 0.009709000060575502\n",
            "住宅 0.00948090212368701\n"
          ]
        }
      ]
    },
    {
      "cell_type": "markdown",
      "metadata": {
        "id": "gvoIH1dX0QMh"
      },
      "source": [
        "#只選擇動名詞與名詞"
      ]
    },
    {
      "cell_type": "code",
      "metadata": {
        "colab": {
          "base_uri": "https://localhost:8080/"
        },
        "id": "Z4VMYcVbvYy6",
        "outputId": "8a02b62f-28d5-4130-a2e2-44a156bb9731"
      },
      "source": [
        "#只選名詞跟動名詞\n",
        "data1=jieba.analyse.extract_tags(document1,topK=8,withWeight=True,allowPOS=('n','vn'))\n",
        "for tag in data1:\n",
        "  print('Word=',tag[0],'TF-IDF=',tag[1])"
      ],
      "execution_count": 10,
      "outputs": [
        {
          "output_type": "stream",
          "name": "stdout",
          "text": [
            "Word= 空間 TF-IDF= 0.4400527915177914\n",
            "Word= 時間 TF-IDF= 0.2933685276785276\n",
            "Word= 環境 TF-IDF= 0.2933685276785276\n",
            "Word= 金錢 TF-IDF= 0.2933685276785276\n",
            "Word= 細節 TF-IDF= 0.2933685276785276\n",
            "Word= 節約 TF-IDF= 0.2933685276785276\n",
            "Word= 生活 TF-IDF= 0.17057162330319017\n",
            "Word= 事業 TF-IDF= 0.1466842638392638\n"
          ]
        }
      ]
    }
  ]
}